{
  "nbformat": 4,
  "nbformat_minor": 0,
  "metadata": {
    "colab": {
      "provenance": [],
      "collapsed_sections": [],
      "authorship_tag": "ABX9TyPLGh8InmUVE5bOBOobf3qQ",
      "include_colab_link": true
    },
    "kernelspec": {
      "name": "python3",
      "display_name": "Python 3"
    },
    "language_info": {
      "name": "python"
    }
  },
  "cells": [
    {
      "cell_type": "markdown",
      "metadata": {
        "id": "view-in-github",
        "colab_type": "text"
      },
      "source": [
        "<a href=\"https://colab.research.google.com/github/Jack-Vercelli-Cohen/Python_Lesson_2/blob/main/Python_Lesson_2.ipynb\" target=\"_parent\"><img src=\"https://colab.research.google.com/assets/colab-badge.svg\" alt=\"Open In Colab\"/></a>"
      ]
    },
    {
      "cell_type": "code",
      "execution_count": 2,
      "metadata": {
        "colab": {
          "base_uri": "https://localhost:8080/"
        },
        "id": "vyEXcSyo_u-C",
        "outputId": "b98590ca-38e5-4859-8554-629736be7e5e"
      },
      "outputs": [
        {
          "output_type": "stream",
          "name": "stdout",
          "text": [
            "This is not an even number\n"
          ]
        }
      ],
      "source": [
        "x=11\n",
        "if x%2==0:\n",
        "  print(\"This is an even number\")\n",
        "else:\n",
        "    print(\"This is not an even number\")"
      ]
    },
    {
      "cell_type": "code",
      "source": [
        "a,b = 15,12\n",
        "if a==b:\n",
        "  print(\"The two numbers are equal\")\n",
        "elif a>b:\n",
        "  print(\"The first number is greater than the second number\")\n",
        "else:\n",
        "  print(\"The first number is smaller than the second number\")"
      ],
      "metadata": {
        "colab": {
          "base_uri": "https://localhost:8080/"
        },
        "id": "1F2GXt39CvPY",
        "outputId": "fc9740d0-2e23-4d94-92f5-e17112f11c15"
      },
      "execution_count": 5,
      "outputs": [
        {
          "output_type": "stream",
          "name": "stdout",
          "text": [
            "The first number is greater than the second number\n"
          ]
        }
      ]
    },
    {
      "cell_type": "code",
      "source": [
        "a=0\n",
        "if a>0:\n",
        "  print(\"The number is positive\")\n",
        "elif a<0:\n",
        "  print(\"The number is negative\")\n",
        "else:\n",
        "  print(\"The number is zero\")"
      ],
      "metadata": {
        "colab": {
          "base_uri": "https://localhost:8080/"
        },
        "id": "k9QkOQU3Fymo",
        "outputId": "3a905d1a-57ef-4b47-b9b1-c664e7af19da"
      },
      "execution_count": 6,
      "outputs": [
        {
          "output_type": "stream",
          "name": "stdout",
          "text": [
            "The number is zero\n"
          ]
        }
      ]
    },
    {
      "cell_type": "code",
      "source": [
        "# for loop"
      ],
      "metadata": {
        "id": "uqc3dk49GTqG"
      },
      "execution_count": 7,
      "outputs": []
    },
    {
      "cell_type": "code",
      "source": [
        "for i in range (0,11):\n",
        "  print (\"The iteration is {}\".format(i))\n",
        "print(\"THE END\")"
      ],
      "metadata": {
        "colab": {
          "base_uri": "https://localhost:8080/"
        },
        "id": "Hi00IPyMGXs_",
        "outputId": "1fbc1459-0ebd-4694-eb5b-4d5c41d8bc2b"
      },
      "execution_count": 9,
      "outputs": [
        {
          "output_type": "stream",
          "name": "stdout",
          "text": [
            "The iteration is 0\n",
            "The iteration is 1\n",
            "The iteration is 2\n",
            "The iteration is 3\n",
            "The iteration is 4\n",
            "The iteration is 5\n",
            "The iteration is 6\n",
            "The iteration is 7\n",
            "The iteration is 8\n",
            "The iteration is 9\n",
            "The iteration is 10\n",
            "THE END\n"
          ]
        }
      ]
    },
    {
      "cell_type": "code",
      "source": [
        "# while loop"
      ],
      "metadata": {
        "id": "Jke5O59DKXNH"
      },
      "execution_count": null,
      "outputs": []
    },
    {
      "cell_type": "code",
      "source": [
        "a=1\n",
        "while a<6:\n",
        "  print(a)\n",
        "  a=a+1\n",
        "print(\"THE END\")"
      ],
      "metadata": {
        "colab": {
          "base_uri": "https://localhost:8080/"
        },
        "id": "8ZvQlhYhKZnV",
        "outputId": "10fc72d1-e94a-4f16-c763-a4059a4ff34d"
      },
      "execution_count": 10,
      "outputs": [
        {
          "output_type": "stream",
          "name": "stdout",
          "text": [
            "1\n",
            "2\n",
            "3\n",
            "4\n",
            "5\n",
            "THE END\n"
          ]
        }
      ]
    },
    {
      "cell_type": "code",
      "source": [
        "targetv = 10\n",
        "iterate = 0\n",
        "while iterate < targetv:\n",
        "  print(\"The iteration no. is {}, which is less than the target value {}\".format(iterate,targetv))\n",
        "  iterate = iterate + 1\n",
        "print(\"THE END\")"
      ],
      "metadata": {
        "colab": {
          "base_uri": "https://localhost:8080/"
        },
        "id": "DafC3OMqKw-N",
        "outputId": "f6653942-e80e-40a2-8cbd-c090ed65cdfe"
      },
      "execution_count": 12,
      "outputs": [
        {
          "output_type": "stream",
          "name": "stdout",
          "text": [
            "The iteration no. is 0, which is less than the target value 10\n",
            "The iteration no. is 1, which is less than the target value 10\n",
            "The iteration no. is 2, which is less than the target value 10\n",
            "The iteration no. is 3, which is less than the target value 10\n",
            "The iteration no. is 4, which is less than the target value 10\n",
            "The iteration no. is 5, which is less than the target value 10\n",
            "The iteration no. is 6, which is less than the target value 10\n",
            "The iteration no. is 7, which is less than the target value 10\n",
            "The iteration no. is 8, which is less than the target value 10\n",
            "The iteration no. is 9, which is less than the target value 10\n",
            "THE END\n"
          ]
        }
      ]
    },
    {
      "cell_type": "code",
      "source": [
        "#nested loop"
      ],
      "metadata": {
        "id": "Kr3o2J0DL6HW"
      },
      "execution_count": null,
      "outputs": []
    },
    {
      "cell_type": "code",
      "source": [
        "for i in range(1,4): #outer loop\n",
        "  for j in range(1,11): #inner loop\n",
        "    print(i*j)\n",
        "     "
      ],
      "metadata": {
        "colab": {
          "base_uri": "https://localhost:8080/"
        },
        "id": "rugLadruMoX8",
        "outputId": "5403d8fd-63c9-4954-a089-0ac034a83c50"
      },
      "execution_count": 14,
      "outputs": [
        {
          "output_type": "stream",
          "name": "stdout",
          "text": [
            "1\n",
            "2\n",
            "3\n",
            "4\n",
            "5\n",
            "6\n",
            "7\n",
            "8\n",
            "9\n",
            "10\n",
            "2\n",
            "4\n",
            "6\n",
            "8\n",
            "10\n",
            "12\n",
            "14\n",
            "16\n",
            "18\n",
            "20\n",
            "3\n",
            "6\n",
            "9\n",
            "12\n",
            "15\n",
            "18\n",
            "21\n",
            "24\n",
            "27\n",
            "30\n"
          ]
        }
      ]
    },
    {
      "cell_type": "code",
      "source": [
        "colours = [\"blue\", \"red\", \"yellow\"]\n",
        "cars = [\"BMW\", \"Mercedes\", \"Range\"]\n",
        "for colour in colours:\n",
        "  for car in cars:\n",
        "    print(colour, car)"
      ],
      "metadata": {
        "colab": {
          "base_uri": "https://localhost:8080/"
        },
        "id": "TSIt4H2lN5Rs",
        "outputId": "da8f6cb1-3a83-4758-c2fc-a24f006987c3"
      },
      "execution_count": 15,
      "outputs": [
        {
          "output_type": "stream",
          "name": "stdout",
          "text": [
            "blue BMW\n",
            "blue Mercedes\n",
            "blue Range\n",
            "red BMW\n",
            "red Mercedes\n",
            "red Range\n",
            "yellow BMW\n",
            "yellow Mercedes\n",
            "yellow Range\n"
          ]
        }
      ]
    },
    {
      "cell_type": "code",
      "source": [
        "targetv=5\n",
        "iterate=0\n",
        "while iterate<targetv:\n",
        "  print(\"Iteration number is {}, which is less than the target value {}\".format(iterate,targetv))\n",
        "  if iterate==3:\n",
        "    print(\"CONDITION MET\")\n",
        "    break\n",
        "  iterate=iterate+1"
      ],
      "metadata": {
        "colab": {
          "base_uri": "https://localhost:8080/"
        },
        "id": "ikHyJRkVQXYc",
        "outputId": "0abf094e-f257-43bd-e9d3-544ca6164e86"
      },
      "execution_count": 16,
      "outputs": [
        {
          "output_type": "stream",
          "name": "stdout",
          "text": [
            "Iteration number is 0, which is less than the target value 5\n",
            "Iteration number is 1, which is less than the target value 5\n",
            "Iteration number is 2, which is less than the target value 5\n",
            "Iteration number is 3, which is less than the target value 5\n",
            "CONDITION MET\n"
          ]
        }
      ]
    },
    {
      "cell_type": "code",
      "source": [
        "targetv=5\n",
        "iterate=0\n",
        "while iterate<targetv:\n",
        "  iterate=iterate+1\n",
        "  if iterate==2:\n",
        "    continue\n",
        "  print (\"Iteration no. is {}, which is less than the target value {}\".format(iterate,targetv))\n"
      ],
      "metadata": {
        "colab": {
          "base_uri": "https://localhost:8080/"
        },
        "id": "sk8gP3vyWHgi",
        "outputId": "324ec543-7c8f-4d28-f681-64862c323acf"
      },
      "execution_count": 20,
      "outputs": [
        {
          "output_type": "stream",
          "name": "stdout",
          "text": [
            "Iteration no. is 1, which is less than the target value 5\n",
            "Iteration no. is 3, which is less than the target value 5\n",
            "Iteration no. is 4, which is less than the target value 5\n",
            "Iteration no. is 5, which is less than the target value 5\n"
          ]
        }
      ]
    },
    {
      "cell_type": "code",
      "source": [
        "names = [\"Mercy\", \"Anis\", \"Chris\", \"Jack\"]\n",
        "for name in names:\n",
        "  if name == \"Chris\":\n",
        "    continue\n",
        "  print(name)"
      ],
      "metadata": {
        "colab": {
          "base_uri": "https://localhost:8080/"
        },
        "id": "rT-d7DbKXmQB",
        "outputId": "420c25b0-6cd4-4e8f-d5d6-0802863d0ebf"
      },
      "execution_count": 22,
      "outputs": [
        {
          "output_type": "stream",
          "name": "stdout",
          "text": [
            "Mercy\n",
            "Anis\n",
            "Jack\n"
          ]
        }
      ]
    },
    {
      "cell_type": "code",
      "source": [
        "mylist = [\"Michael\", \"Sean\", \"Adam\"]\n",
        "mylist[0] = \"John\"\n",
        "print(mylist)"
      ],
      "metadata": {
        "colab": {
          "base_uri": "https://localhost:8080/"
        },
        "id": "B2Qte6MxY3L_",
        "outputId": "64694f3a-2dee-4219-f9d0-cd33084a0ca8"
      },
      "execution_count": 23,
      "outputs": [
        {
          "output_type": "stream",
          "name": "stdout",
          "text": [
            "['John', 'Sean', 'Adam']\n"
          ]
        }
      ]
    },
    {
      "cell_type": "code",
      "source": [
        "mylist[1:2]"
      ],
      "metadata": {
        "colab": {
          "base_uri": "https://localhost:8080/"
        },
        "id": "fotDVyXtbGkl",
        "outputId": "d5de53b8-f003-43b8-9ab5-4c293f3bc9ee"
      },
      "execution_count": 24,
      "outputs": [
        {
          "output_type": "execute_result",
          "data": {
            "text/plain": [
              "['Sean']"
            ]
          },
          "metadata": {},
          "execution_count": 24
        }
      ]
    },
    {
      "cell_type": "code",
      "source": [
        "mylist[0:2]"
      ],
      "metadata": {
        "colab": {
          "base_uri": "https://localhost:8080/"
        },
        "id": "s3Kfa5-DbRzP",
        "outputId": "a566e5e6-0801-4ca9-f6ac-9bce7e005ab9"
      },
      "execution_count": 25,
      "outputs": [
        {
          "output_type": "execute_result",
          "data": {
            "text/plain": [
              "['John', 'Sean']"
            ]
          },
          "metadata": {},
          "execution_count": 25
        }
      ]
    },
    {
      "cell_type": "code",
      "source": [
        "print(len(mylist))"
      ],
      "metadata": {
        "colab": {
          "base_uri": "https://localhost:8080/"
        },
        "id": "NFHzcaikbZu-",
        "outputId": "d6bf7648-87bf-4c40-c445-88634f054eef"
      },
      "execution_count": 26,
      "outputs": [
        {
          "output_type": "stream",
          "name": "stdout",
          "text": [
            "3\n"
          ]
        }
      ]
    },
    {
      "cell_type": "code",
      "source": [
        "print(type(mylist))"
      ],
      "metadata": {
        "colab": {
          "base_uri": "https://localhost:8080/"
        },
        "id": "KjmK0tGLbgFW",
        "outputId": "1e4e4619-7053-408f-d611-d79f2328229f"
      },
      "execution_count": 27,
      "outputs": [
        {
          "output_type": "stream",
          "name": "stdout",
          "text": [
            "<class 'list'>\n"
          ]
        }
      ]
    },
    {
      "cell_type": "code",
      "source": [
        "mylist = [\"Michael\", \"Sean\", \"Adam\"]\n",
        "if \"Sean\" in mylist:\n",
        "  print(\"Yes in my list\")"
      ],
      "metadata": {
        "colab": {
          "base_uri": "https://localhost:8080/"
        },
        "id": "boj9wJGdblvO",
        "outputId": "5d00bb56-8dfe-4bdb-db8d-d8a9d4ae9600"
      },
      "execution_count": 28,
      "outputs": [
        {
          "output_type": "stream",
          "name": "stdout",
          "text": [
            "Yes in my list\n"
          ]
        }
      ]
    },
    {
      "cell_type": "code",
      "source": [
        "mylist = [\"Michael\", \"Sean\", \"Adam\"]\n",
        "mylist.insert(0,\"Mercy\")\n",
        "print(mylist)"
      ],
      "metadata": {
        "colab": {
          "base_uri": "https://localhost:8080/"
        },
        "id": "UbZBIpXdb7cO",
        "outputId": "05c65d46-a198-426d-dc50-a16f8016e712"
      },
      "execution_count": 29,
      "outputs": [
        {
          "output_type": "stream",
          "name": "stdout",
          "text": [
            "['Mercy', 'Michael', 'Sean', 'Adam']\n"
          ]
        }
      ]
    },
    {
      "cell_type": "code",
      "source": [
        "mylist.append(\"John\")\n",
        "print(mylist)"
      ],
      "metadata": {
        "colab": {
          "base_uri": "https://localhost:8080/"
        },
        "id": "OniIxHfIiFZT",
        "outputId": "27894d03-5b94-4c95-f2d2-6fe104cf6afa"
      },
      "execution_count": 31,
      "outputs": [
        {
          "output_type": "stream",
          "name": "stdout",
          "text": [
            "['Mercy', 'Michael', 'Sean', 'Adam', 'John']\n"
          ]
        }
      ]
    },
    {
      "cell_type": "code",
      "source": [
        "mylist1 = [\"Michael\", \"Sean\", \"Adam\"]\n",
        "mylist2 = [\"Zara\", \"Alex\"]\n",
        "mylist1.extend(mylist2)\n",
        "print(mylist1)"
      ],
      "metadata": {
        "colab": {
          "base_uri": "https://localhost:8080/"
        },
        "id": "DXoSae7mimAr",
        "outputId": "9a26fc46-6015-4ab4-9b0e-2b053f955816"
      },
      "execution_count": 32,
      "outputs": [
        {
          "output_type": "stream",
          "name": "stdout",
          "text": [
            "['Michael', 'Sean', 'Adam', 'Zara', 'Alex']\n"
          ]
        }
      ]
    },
    {
      "cell_type": "code",
      "source": [
        "mylist2.extend(mylist1)\n",
        "print(mylist2)"
      ],
      "metadata": {
        "colab": {
          "base_uri": "https://localhost:8080/"
        },
        "id": "qFWvGnSljOXy",
        "outputId": "98e0bdf5-81d1-4529-8d4a-cd1bb70f506c"
      },
      "execution_count": 33,
      "outputs": [
        {
          "output_type": "stream",
          "name": "stdout",
          "text": [
            "['Zara', 'Alex', 'Michael', 'Sean', 'Adam', 'Zara', 'Alex']\n"
          ]
        }
      ]
    },
    {
      "cell_type": "code",
      "source": [
        "mylist1.remove(\"Zara\")\n",
        "print(mylist1)"
      ],
      "metadata": {
        "colab": {
          "base_uri": "https://localhost:8080/"
        },
        "id": "fitZDm2nkBBy",
        "outputId": "0603ea9f-86e7-4493-965f-73c674b761c3"
      },
      "execution_count": 34,
      "outputs": [
        {
          "output_type": "stream",
          "name": "stdout",
          "text": [
            "['Michael', 'Sean', 'Adam', 'Alex']\n"
          ]
        }
      ]
    },
    {
      "cell_type": "code",
      "source": [
        "mylist1.pop()\n",
        "print(mylist1)"
      ],
      "metadata": {
        "colab": {
          "base_uri": "https://localhost:8080/"
        },
        "id": "Pf_F2qo1kU4K",
        "outputId": "8ca5c62e-18f0-4916-9dba-977d0ca543ef"
      },
      "execution_count": 35,
      "outputs": [
        {
          "output_type": "stream",
          "name": "stdout",
          "text": [
            "['Michael', 'Sean', 'Adam']\n"
          ]
        }
      ]
    },
    {
      "cell_type": "code",
      "source": [
        "mylist1.pop(1)\n",
        "print(mylist1)"
      ],
      "metadata": {
        "colab": {
          "base_uri": "https://localhost:8080/"
        },
        "id": "6vFuLF2Hkilb",
        "outputId": "1944d1c8-6235-4228-ac4d-94dd5be60a2a"
      },
      "execution_count": 36,
      "outputs": [
        {
          "output_type": "stream",
          "name": "stdout",
          "text": [
            "['Michael', 'Adam']\n"
          ]
        }
      ]
    },
    {
      "cell_type": "code",
      "source": [
        "#mylist2\n",
        "for name in mylist2:\n",
        "  if name ==\"Zara\":\n",
        "    mylist2.remove(\"Zara\")\n",
        "print(mylist2)"
      ],
      "metadata": {
        "colab": {
          "base_uri": "https://localhost:8080/"
        },
        "id": "1TCCusA8kxJK",
        "outputId": "a01aad8c-23bf-4ad4-fb56-6d952ac432bc"
      },
      "execution_count": 39,
      "outputs": [
        {
          "output_type": "stream",
          "name": "stdout",
          "text": [
            "['Alex', 'Michael', 'Sean', 'Adam', 'Alex']\n"
          ]
        }
      ]
    },
    {
      "cell_type": "code",
      "source": [
        "mylist3 = [\"Sam\", \"Max\", \"Liza\"]\n",
        "mylist4=mylist2 + mylist3\n",
        "print(mylist4)"
      ],
      "metadata": {
        "colab": {
          "base_uri": "https://localhost:8080/"
        },
        "id": "iAcc_6kkdRW-",
        "outputId": "f035972f-1280-4edd-cc25-10a7eb1a627f"
      },
      "execution_count": 40,
      "outputs": [
        {
          "output_type": "stream",
          "name": "stdout",
          "text": [
            "['Alex', 'Michael', 'Sean', 'Adam', 'Alex', 'Sam', 'Max', 'Liza']\n"
          ]
        }
      ]
    },
    {
      "cell_type": "code",
      "source": [
        "# exercise "
      ],
      "metadata": {
        "id": "zVVUH9d2lzxY"
      },
      "execution_count": 41,
      "outputs": []
    },
    {
      "cell_type": "code",
      "source": [
        "tech1 = [\"Meta\", \"Google\", \"Tesla\", \"Snap\"]\n",
        "if \"IG\" in tech1:\n",
        "  orint(tech1)\n",
        "else:\n",
        "  tech1.insert(4,\"TikTok\")\n",
        "  print(tech1)"
      ],
      "metadata": {
        "colab": {
          "base_uri": "https://localhost:8080/"
        },
        "id": "Iwx9rQhCoaHv",
        "outputId": "c76ea97f-4cac-4d46-a18e-61b6cf93af61"
      },
      "execution_count": 1,
      "outputs": [
        {
          "output_type": "stream",
          "name": "stdout",
          "text": [
            "['Meta', 'Google', 'Tesla', 'Snap', 'TikTok']\n"
          ]
        }
      ]
    },
    {
      "cell_type": "code",
      "source": [
        "tech2 = [\"Meta\", \"Google\", \"Tesla\", \"Snap\"]\n",
        "element = input(\"Please input co. name (capitalised)\")\n",
        "if element in tech2:\n",
        "  print(\"Tech company already exists\")\n",
        "else:\n",
        "  tech2.append(element)\n",
        "  print(\"The new list is:\", tech2)"
      ],
      "metadata": {
        "colab": {
          "base_uri": "https://localhost:8080/"
        },
        "id": "mY7kmKCwiHw8",
        "outputId": "a85a8d06-da2c-43a6-9c7d-2ba7f5b2495b"
      },
      "execution_count": 2,
      "outputs": [
        {
          "output_type": "stream",
          "name": "stdout",
          "text": [
            "Please input co. name (capitalised)TIKTOK\n",
            "The new list is: ['Meta', 'Google', 'Tesla', 'Snap', 'TIKTOK']\n"
          ]
        }
      ]
    },
    {
      "cell_type": "code",
      "source": [
        "print(tech2)\n",
        "for element in tech2:\n",
        "  print(element)"
      ],
      "metadata": {
        "colab": {
          "base_uri": "https://localhost:8080/"
        },
        "id": "44r5COCfjG7T",
        "outputId": "0ce5eb02-6ff7-45ed-8320-39d7620edd48"
      },
      "execution_count": 4,
      "outputs": [
        {
          "output_type": "stream",
          "name": "stdout",
          "text": [
            "['Meta', 'Google', 'Tesla', 'Snap', 'TIKTOK']\n",
            "Meta\n",
            "Google\n",
            "Tesla\n",
            "Snap\n",
            "TIKTOK\n"
          ]
        }
      ]
    },
    {
      "cell_type": "code",
      "source": [
        "print(tech2)\n",
        "for element in range(len(tech2)):\n",
        "  print(element, tech2[element])"
      ],
      "metadata": {
        "colab": {
          "base_uri": "https://localhost:8080/"
        },
        "id": "Y7fuZyO-jglM",
        "outputId": "d0506494-1fc7-456c-8f3d-5f7ff51e7c1f"
      },
      "execution_count": 6,
      "outputs": [
        {
          "output_type": "stream",
          "name": "stdout",
          "text": [
            "['Meta', 'Google', 'Tesla', 'Snap', 'TIKTOK']\n",
            "0 Meta\n",
            "1 Google\n",
            "2 Tesla\n",
            "3 Snap\n",
            "4 TIKTOK\n"
          ]
        }
      ]
    },
    {
      "cell_type": "code",
      "source": [
        "a = [1,2,3,4,5,6]\n",
        "c = []\n",
        "for x in a:\n",
        "  c.append(x*2)\n",
        "print(c)"
      ],
      "metadata": {
        "colab": {
          "base_uri": "https://localhost:8080/"
        },
        "id": "xMm1Eitvj4qC",
        "outputId": "e20496e4-c9e7-42ac-8f57-56b8aaddacae"
      },
      "execution_count": 7,
      "outputs": [
        {
          "output_type": "stream",
          "name": "stdout",
          "text": [
            "[2, 4, 6, 8, 10, 12]\n"
          ]
        }
      ]
    },
    {
      "cell_type": "code",
      "source": [
        "b = [x**2 for x in a]\n",
        "print(b)"
      ],
      "metadata": {
        "colab": {
          "base_uri": "https://localhost:8080/"
        },
        "id": "gXCsWu_1kfR6",
        "outputId": "4536fd8a-a1b8-4de0-b630-fe406e7ed123"
      },
      "execution_count": 9,
      "outputs": [
        {
          "output_type": "stream",
          "name": "stdout",
          "text": [
            "[1, 4, 9, 16, 25, 36]\n"
          ]
        }
      ]
    },
    {
      "cell_type": "code",
      "source": [
        "mylist5 = [letter.upper() for letter in \"python\"]\n",
        "print(mylist5)"
      ],
      "metadata": {
        "colab": {
          "base_uri": "https://localhost:8080/"
        },
        "id": "sncEVfmDksHz",
        "outputId": "a3ddbbf2-a033-47ce-ff36-639be9d8b091"
      },
      "execution_count": 10,
      "outputs": [
        {
          "output_type": "stream",
          "name": "stdout",
          "text": [
            "['P', 'Y', 'T', 'H', 'O', 'N']\n"
          ]
        }
      ]
    },
    {
      "cell_type": "code",
      "source": [
        "mydict = {\"employee\":\"Zara\",\"salary\":5000}\n",
        "mydict[\"department\"] = \"sales\"\n",
        "print(mydict) #1\n",
        "print(len(mydict)) #2\n",
        "if \"department\" in mydict:\n",
        "  print(\"THE KEY EXISTS\") #3\n",
        "mydict.update({\"salary\":\"6000\",\"level\":3})\n",
        "print(mydict) #4\n",
        "mydict.pop(\"employee\")\n",
        "print(mydict) #5\n",
        "del mydict[\"level\"]\n",
        "print(mydict) #6\n",
        "mydict.clear()\n",
        "print(mydict) #7"
      ],
      "metadata": {
        "colab": {
          "base_uri": "https://localhost:8080/"
        },
        "id": "aGxpUAOCk4CG",
        "outputId": "cc62eeaa-515a-4c65-f0f2-5f9a71df2064"
      },
      "execution_count": 20,
      "outputs": [
        {
          "output_type": "stream",
          "name": "stdout",
          "text": [
            "{'employee': 'Zara', 'salary': 5000, 'department': 'sales'}\n",
            "3\n",
            "THE KEY EXISTS\n",
            "{'employee': 'Zara', 'salary': '6000', 'department': 'sales', 'level': 3}\n",
            "{'salary': '6000', 'department': 'sales', 'level': 3}\n",
            "{'salary': '6000', 'department': 'sales'}\n",
            "{}\n"
          ]
        }
      ]
    },
    {
      "cell_type": "code",
      "source": [
        "mytuples = [\"Audi\", \"Ford\", \"Tesla\"]\n",
        "print(mytuples[2]) #1\n",
        "mylist6=list(mytuples)\n",
        "mylist6[2]=\"BMW\"\n",
        "mytuples=tuple(mylist6)\n",
        "print(mylist6) #2"
      ],
      "metadata": {
        "colab": {
          "base_uri": "https://localhost:8080/"
        },
        "id": "33J23putl2dy",
        "outputId": "a2f368f1-52ae-4301-e9cd-2711ad2f3627"
      },
      "execution_count": 24,
      "outputs": [
        {
          "output_type": "stream",
          "name": "stdout",
          "text": [
            "Tesla\n",
            "['Audi', 'Ford', 'BMW']\n"
          ]
        }
      ]
    },
    {
      "cell_type": "code",
      "source": [
        "myset={\"Apple\", \"Banana\"}\n",
        "print(len(myset))"
      ],
      "metadata": {
        "colab": {
          "base_uri": "https://localhost:8080/"
        },
        "id": "a-DkhDuwpYy7",
        "outputId": "70ed369f-35ec-4e8a-84b1-171f49a1e013"
      },
      "execution_count": 25,
      "outputs": [
        {
          "output_type": "stream",
          "name": "stdout",
          "text": [
            "2\n"
          ]
        }
      ]
    }
  ]
}